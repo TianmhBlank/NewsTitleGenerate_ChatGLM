{
 "cells": [
  {
   "attachments": {},
   "cell_type": "markdown",
   "metadata": {},
   "source": [
    "# ChatGLM Prompt\n",
    "本Notebook运行于本机（Mac）\n",
    "\n",
    "本节中，将使用提示工程的方式基于ChatGLM生成标题。具体来说分为以下三个方法：\n",
    "1. 输入正文，直接生成标题\n",
    "2. 基于Langchain，多次生成标题后再汇总生成标题\n",
    "3. 基于Langchain，使用训练集构建向量数据库，根据新闻正文相似性查找对应的训练数据作为“例子”，再生成标题\n"
   ]
  },
  {
   "attachments": {},
   "cell_type": "markdown",
   "metadata": {},
   "source": [
    "### ChatGLM直接生成标题\n",
    "ChatGLM运行在服务器中，采用官方仓库中的API进行调用，默认使用8000端口，以Post方式传入对话数据。\n",
    "> https://github.com/THUDM/ChatGLM-6B\n",
    "\n",
    "同时使用Langchain进行二次封装，方便之后的调用与功能实现.\n",
    "> https://python.langchain.com/en/latest/index.html"
   ]
  },
  {
   "cell_type": "code",
   "execution_count": 2,
   "metadata": {},
   "outputs": [],
   "source": [
    "# 借助Langchain框架实现ChatGLM的API调用，方便之后使用Prompt\n",
    "from langchain.llms.base import LLM\n",
    "from langchain.llms.utils import enforce_stop_tokens\n",
    "from typing import Dict, List, Optional, Tuple, Union\n",
    "import requests\n",
    "import json\n",
    "class ChatGLM(LLM):\n",
    "    max_token: int = 2048\n",
    "    temperature: float = 0.1\n",
    "    top_p = 0.9\n",
    "    history = []\n",
    "    def __init__(self):\n",
    "        super().__init__()\n",
    "    @property\n",
    "    def _llm_type(self) -> str:\n",
    "        return \"ChatGLM\"\n",
    "    def _call(self, prompt: str, stop: Optional[List[str]] = None) -> str:\n",
    "        headers = {'Content-Type': 'application/json'}\n",
    "        data=json.dumps({\n",
    "          'prompt':prompt,\n",
    "          'temperature':self.temperature,\n",
    "          'history':self.history,\n",
    "          'max_length':self.max_token\n",
    "        })\n",
    "        # print(\"ChatGLM prompt:\",prompt)\n",
    "        # 调用api\n",
    "        success = False\n",
    "        failure_count = 0\n",
    "        while not success and failure_count < 4:\n",
    "            try:\n",
    "                response = requests.post(\"http://192.168.192.160:8000\",headers=headers,data=data,timeout=120)\n",
    "                if response.status_code==200:\n",
    "                    success = True\n",
    "                    resp = response.json()\n",
    "                    if stop is not None:\n",
    "                        response = enforce_stop_tokens(response, stop)\n",
    "                    self.history = self.history+[[None, resp['response']]]\n",
    "                    return resp['response']\n",
    "                else:\n",
    "                    failure_count += 1\n",
    "            except:\n",
    "                failure_count += 1\n",
    "                continue\n",
    "        return \"ChatGLM调用失败\"\n",
    "            "
   ]
  },
  {
   "cell_type": "code",
   "execution_count": 2,
   "metadata": {},
   "outputs": [
    {
     "name": "stdout",
     "output_type": "stream",
     "text": [
      "我是一个名为 ChatGLM-6B 的人工智能助手，是基于清华大学 KEG 实验室和智谱 AI 公司于 2023 年共同训练的语言模型开发的。我的任务是针对用户的问题和要求提供适当的答复和支持。我是一段程序，并没有自我意识，也不能像人类一样感知世界。\n"
     ]
    }
   ],
   "source": [
    "# 测试一下效果\n",
    "chatglm = ChatGLM()\n",
    "print(chatglm(\"请介绍一下你自己\"))\n"
   ]
  },
  {
   "cell_type": "code",
   "execution_count": 3,
   "metadata": {},
   "outputs": [
    {
     "data": {
      "text/plain": [
       "('刘烨儿子取名诺一：生个女儿就叫“千金”',\n",
       " '\\u3000\\u300032岁的刘烨当爸了，给儿子取名“诺一”。昨天，从法国风尘仆仆赶回、直奔《爱出色》官网启动式现场的刘烨，从头到尾都在兴奋：“取名诺一，是因为‘一诺千金’。我跟媳妇早就说好了，生个儿子就叫‘诺一’，生个女儿就叫‘千金’！”\\n\\u3000\\u30009月底，刘烨刚拍完《建党伟业》的戏份，就飞赴法国陪妻子安娜待产，10月10日，他们的混血儿子“诺一”降临人世，“自己有了孩子，才知道当父母有多累。我这个儿子还特别能哭闹，害得我晚上经常睡不好觉。”当上爹的刘烨，更念“父母恩”：“以前我是一周给父母打个电话，有了孩子后，每天都要跟他们联系。我还不断问我妈很幼稚的问题，比如‘我小时候是不是也像小动物似的趴在你们身上一动不动，没父母就活不了？’”本报驻北京记者 梅春艳\\n\\u3000\\u3000《建党伟业》小凤仙\\n\\u3000\\u3000最终花落Angelababy\\n\\u3000\\u3000献礼片《建党伟业》明星众多，不过由谁来扮演同“护国将军”蔡锷有过一段千古之情的小凤仙，一直引人关注。之前被曝已定下由范冰冰出演这一角色。不过昨日，中影对外发布消息称，范冰冰由于档期不合出演不成，这一角色最终花落香港嫩模出身的Angelababy。近日，剧组转站河北迁安，出演蔡锷的刘德华以及Angelababy也相继入组。\\n\\u3000\\u3000据了解，剧组在迁安所拍摄的主要是小凤仙送别蔡锷的戏份，为了找到符合当年情景的老火车以及火车站，剧组可谓费尽心思，一直找到河北迁安。据影片摄影指导赵晓介绍，迁安的火车站机身和车厢保存比较完整，也比较古老，再加上美术、置景与特技，能够最大程度上还原当年小凤仙送别蔡锷的场景。\\n\\u3000\\u3000据剧组介绍，Angelababy最初一直进不了状态，还好刘德华经验很足，主动与Angelababy说戏，悉心引导，好在Angelababy完全放开后，表现不错。记者 冯泽\\n\\n')"
      ]
     },
     "execution_count": 3,
     "metadata": {},
     "output_type": "execute_result"
    }
   ],
   "source": [
    "# 读取测试集数据\n",
    "import pandas as pd\n",
    "\n",
    "\n",
    "df_raw_test = pd.read_csv(\"data/test_data.csv\")\n",
    "        \n",
    "title,context = df_raw_test.iloc[0,0],df_raw_test.iloc[0,1]\n",
    "title,context"
   ]
  },
  {
   "attachments": {},
   "cell_type": "markdown",
   "metadata": {},
   "source": [
    "具体的Prompt设置方面，这里也先进行了一些尝试，发现ChatGLM在某些较短的新闻内容生成标题时效果还不错，但是对一些较长的新闻内容往往会生成过于长的新闻标题。因此，增加“写一个20字以内”的Prompt，但是实际生成时，某些标题长度依然超过了20字。"
   ]
  },
  {
   "cell_type": "code",
   "execution_count": 4,
   "metadata": {},
   "outputs": [
    {
     "data": {
      "text/plain": [
       "'刘烨给儿子取名“诺一”，范冰冰因档期不合退出《建党伟业》扮演小凤仙的角色，最终由Angelababy饰演。'"
      ]
     },
     "execution_count": 4,
     "metadata": {},
     "output_type": "execute_result"
    }
   ],
   "source": [
    "# 利用Langchain的Prompt Templates与Chains构造Prompt并生成标题\n",
    "from langchain.prompts import PromptTemplate\n",
    "from langchain.chains import LLMChain\n",
    "\n",
    "prompt = PromptTemplate(\n",
    "    input_variables=[\"context\"],\n",
    "    template=\"请根据新闻内容帮我写一个20字以内的新闻短标题：{context}?\",\n",
    ")\n",
    "direct_generate_chain = LLMChain(llm=chatglm, prompt=prompt)\n",
    "direct_generate_chain.run(context)\n",
    "\n"
   ]
  },
  {
   "cell_type": "code",
   "execution_count": 3,
   "metadata": {},
   "outputs": [],
   "source": [
    "# 利用Langchain的Prompt Templates与Chains构造Prompt并生成标题\n",
    "from langchain.prompts import PromptTemplate\n",
    "from langchain.chains import LLMChain\n",
    "\n",
    "# 获取chatglm的chain\n",
    "def get_chatglm_chain(prompt):\n",
    "    chatglm = ChatGLM()\n",
    "    chain = LLMChain(llm=chatglm, prompt=prompt)\n",
    "    return chain\n",
    "\n",
    "\n",
    "def format_generate_result(result):\n",
    "    # 通过测试集数据发现可能存在以下情况：“新闻标题是：\\n”、“新闻短标题是：”，或者直接列出多个标题，或者生成一长段话\n",
    "    # 删除句号及句号之后的内容,处理生成一长段的情况\n",
    "    result = result.split(\"。\")[0]\n",
    "    # 处理“新闻标题是：\\n”、“新闻短标题是：”的情况\n",
    "    if \"：\\n\" in result and \"标题\" in result:\n",
    "        result = result.split(\"：\\n\")[1]\n",
    "    elif \"：\" in result and \"标题\" in result:\n",
    "        result = result.split(\"：\")[1]\n",
    "    # 处理多个标题的情况\n",
    "    result = result.split(\"\\n\")[0]    \n",
    "    return result\n",
    "\n",
    "\n",
    "from tqdm import tqdm\n",
    "# 读取数据与保存数据\n",
    "def run(name,generate_method,save_path = \"\",read_path = 'data/test_data.csv',saving_step=20,vector_db = None,test_mode=False,append=False):\n",
    "    df = pd.read_csv(read_path)\n",
    "    if not append or name not in df.columns:\n",
    "        df[name] = pd.Series()\n",
    "    if test_mode:\n",
    "        max_iter = 5\n",
    "        saving_step = 1\n",
    "    else: \n",
    "        max_iter = len(df)\n",
    "    for i in tqdm(range(max_iter)):\n",
    "        if df[name].isna()[i] or df[name].iloc[i] == \"ChatGLM调用失败\" :\n",
    "            title,context = df.iloc[i,0],df.iloc[i,1]\n",
    "            if vector_db is not None:\n",
    "                result = generate_method(context,vector_db)\n",
    "            else:\n",
    "                result = generate_method(context)\n",
    "            result = format_generate_result(result)\n",
    "            if test_mode :\n",
    "                print(f'{title}-----{result}')\n",
    "            else:\n",
    "                df[name].iloc[i] = result\n",
    "                if save_path != \"\":\n",
    "                    if i%saving_step==0 or i==max_iter-1:\n",
    "                        df.to_csv(save_path,index=False)\n",
    "    return df\n",
    "\n",
    "def run_test(name,generate_method,vector_db=None):\n",
    "    run(name,generate_method,\"\",vector_db=vector_db,test_mode=True)\n",
    "    \n"
   ]
  },
  {
   "cell_type": "code",
   "execution_count": 4,
   "metadata": {},
   "outputs": [],
   "source": [
    "# 直接生成标题\n",
    "\n",
    "def generate_prompt_direcet_title(context):\n",
    "    prompt = PromptTemplate(\n",
    "    input_variables=[\"context\"],\n",
    "    template=\"请根据新闻内容帮我写一个20字以内的新闻短标题，标题要能简洁明了概括新闻、吸引读者、具有文采：{context}?\",\n",
    "    )\n",
    "    chain = get_chatglm_chain(prompt)\n",
    "    result = chain.run(context)\n",
    "    return result\n",
    "\n",
    "    "
   ]
  },
  {
   "cell_type": "code",
   "execution_count": 14,
   "metadata": {},
   "outputs": [
    {
     "name": "stderr",
     "output_type": "stream",
     "text": [
      " 20%|██        | 1/5 [00:04<00:18,  4.61s/it]"
     ]
    },
    {
     "name": "stdout",
     "output_type": "stream",
     "text": [
      "刘烨儿子取名诺一：生个女儿就叫“千金”-----刘烨儿子命名“诺一”，范冰冰落选《建党伟业》小凤仙角色；Angelababy入组《建党伟业》，剧组在河北迁安拍摄还原场景\n"
     ]
    },
    {
     "name": "stderr",
     "output_type": "stream",
     "text": [
      " 40%|████      | 2/5 [00:07<00:11,  3.82s/it]"
     ]
    },
    {
     "name": "stdout",
     "output_type": "stream",
     "text": [
      "乡村乐组合Sugarland遭前队友索赔1400万美元-----Sugarland组合与前队友克里斯汀-霍尔之间的财务诉讼庭审成功和解\n"
     ]
    },
    {
     "name": "stderr",
     "output_type": "stream",
     "text": [
      " 60%|██████    | 3/5 [00:15<00:11,  5.57s/it]"
     ]
    },
    {
     "name": "stdout",
     "output_type": "stream",
     "text": [
      "彩民周刊10139期双色球：一区2路号已亟待回补-----1路号07、10概率较大，4枚1路号或2枚2路号；0路号33删除；25、15、22、27、28重点防；0路号25、17、32仅保留1-2枚；01、21、23、26、30有重号开出\n"
     ]
    },
    {
     "name": "stderr",
     "output_type": "stream",
     "text": [
      " 80%|████████  | 4/5 [00:18<00:04,  4.71s/it]"
     ]
    },
    {
     "name": "stdout",
     "output_type": "stream",
     "text": [
      "女子锤杀出轨丈夫割下其生殖器(图)-----女子锤杀丈夫并割下其生殖器，法院轻判凶手14年\n"
     ]
    },
    {
     "name": "stderr",
     "output_type": "stream",
     "text": [
      "100%|██████████| 5/5 [00:21<00:00,  4.23s/it]"
     ]
    },
    {
     "name": "stdout",
     "output_type": "stream",
     "text": [
      "北大考研记：打开双手世界就在你手中-----考生坚持考研，梦想实现在望\n"
     ]
    },
    {
     "name": "stderr",
     "output_type": "stream",
     "text": [
      "\n"
     ]
    }
   ],
   "source": [
    "# 先测试一下效果\n",
    "run_test(name=\"prompt_direct_title\",generate_method = generate_prompt_direcet_title)\n"
   ]
  },
  {
   "attachments": {},
   "cell_type": "markdown",
   "metadata": {},
   "source": [
    "### Langchain多次生成标题\n",
    "\n",
    "使用Langchain构建多个ChatGLM的Agent，其中一个Agent负责汇总其余Agent的标题生成结果，最终生成标题。\n",
    "\n",
    "具体Prompt尝试过：\n",
    "1. 请根据新闻内容帮我写一个20字以内的新闻短标题：{context}\n",
    "2. 请根据新闻内容帮我写一个新闻短标题，一定要简短：{context}\n",
    "3. 请根据新闻内容帮我写一个能吸引读者兴趣的新闻短标题：{context}\n",
    "4. 你现在是一个资深的新闻编辑，请根据以下内容拟一个易读的新闻短标题：{context}\n",
    "5. 请根据新闻内容帮我写一个能简洁明了概括具体内容的新闻短标题：\\n{context}\n",
    "6. 请根据新闻内容帮我写一个能引人入胜，吸引阅读的新闻短标题：\\n{context}\n",
    "7. 请根据以下新闻内容写一个文采斐然，具有内涵的新闻短标题：\\n{context}\n",
    "8. 请你作为资深的新闻编辑，参考以下几个新闻标题，生成一个更好的短标题给我（不要给我选择，只要生成一个更好的新闻短标题）：\\n{context}\n",
    "9. 以下是几个新闻标题，请你作为资深的新闻编辑，给出一个更好的标题：{context}"
   ]
  },
  {
   "cell_type": "code",
   "execution_count": 5,
   "metadata": {},
   "outputs": [],
   "source": [
    "def generate_prompt_combined_title(context):\n",
    "    prompt_a2 = PromptTemplate(\n",
    "        input_variables=[\"context\"],\n",
    "        template=\"请根据新闻内容帮我写一个能简洁明了概括具体内容的新闻短标题：\\n{context}\",\n",
    "    )\n",
    "    prompt_a3 = PromptTemplate(\n",
    "        input_variables=[\"context\"],\n",
    "        template=\"请根据新闻内容帮我写一个能引人入胜，吸引阅读的新闻短标题：\\n{context}\",\n",
    "    )\n",
    "    prompt_a4 = PromptTemplate(\n",
    "        input_variables=[\"context\"],\n",
    "        template=\"请根据以下新闻内容写一个文采斐然，具有内涵的新闻短标题：\\n{context}\",\n",
    "    )\n",
    "    prompt_summarize = PromptTemplate(\n",
    "        input_variables=[\"context\"],\n",
    "        template=\"请你作为资深的新闻编辑，参考以下几个新闻标题，选择一个最好的短标题给我：\\n{context}\",\n",
    "    )\n",
    "    prompt_too_long = PromptTemplate(\n",
    "        input_variables=[\"context\"],\n",
    "        template=\"请将以下内容总结概括，生成一个20字以内的新闻标题：\\n{context}\",\n",
    "    )\n",
    "    prompt_list = [prompt_a2,prompt_a3,prompt_a4]\n",
    "    agents = []\n",
    "    results_of_agents = ''\n",
    "    for prompt in prompt_list:\n",
    "        chain = get_chatglm_chain(prompt)\n",
    "        agents.append(chain)\n",
    "    summarize_agent = get_chatglm_chain(prompt_summarize)\n",
    "    short_agent = get_chatglm_chain(prompt_too_long)\n",
    "    for agent in agents:\n",
    "        result = agent.run(context)\n",
    "        if len(result) > 35: # 还是会有生成标题过长的情况出现，所以这里手动增加了判断逻辑，如果生成的标题过长，就再总结一次（最开始是直接丢弃，但发现会出现所有标题都过长的情况）\n",
    "            result = short_agent.run(result)\n",
    "        results_of_agents += result + '\\n'\n",
    "    results_of_summarize = summarize_agent.run(results_of_agents)\n",
    "    return results_of_summarize\n",
    "        "
   ]
  },
  {
   "cell_type": "code",
   "execution_count": 26,
   "metadata": {},
   "outputs": [
    {
     "name": "stderr",
     "output_type": "stream",
     "text": [
      " 20%|██        | 1/5 [00:46<03:06, 46.68s/it]"
     ]
    },
    {
     "name": "stdout",
     "output_type": "stream",
     "text": [
      "刘烨儿子取名诺一：生个女儿就叫“千金”-----刘烨儿子命名“诺一”,Angelababy成《建党伟业》小凤仙角色之一，迁安戏份能够还原角色\n"
     ]
    },
    {
     "name": "stderr",
     "output_type": "stream",
     "text": [
      " 40%|████      | 2/5 [01:19<01:55, 38.59s/it]"
     ]
    },
    {
     "name": "stdout",
     "output_type": "stream",
     "text": [
      "乡村乐组合Sugarland遭前队友索赔1400万美元-----Sugarland组合前成员起诉前队友，庭外和解，要求分享组合利润的三分之一\n"
     ]
    },
    {
     "name": "stderr",
     "output_type": "stream",
     "text": [
      " 60%|██████    | 3/5 [04:07<03:15, 97.55s/it]"
     ]
    },
    {
     "name": "stdout",
     "output_type": "stream",
     "text": [
      "彩民周刊10139期双色球：一区2路号已亟待回补-----\n"
     ]
    },
    {
     "name": "stderr",
     "output_type": "stream",
     "text": [
      " 80%|████████  | 4/5 [04:48<01:15, 75.39s/it]"
     ]
    },
    {
     "name": "stdout",
     "output_type": "stream",
     "text": [
      "女子锤杀出轨丈夫割下其生殖器(图)-----女子锤杀丈夫被判14年，从轻处罚\n"
     ]
    },
    {
     "name": "stderr",
     "output_type": "stream",
     "text": [
      "100%|██████████| 5/5 [05:06<00:00, 61.34s/it]"
     ]
    },
    {
     "name": "stdout",
     "output_type": "stream",
     "text": [
      "北大考研记：打开双手世界就在你手中-----考生北大情缘：紧握双手握世界，考研成功触摸梦想\n"
     ]
    },
    {
     "name": "stderr",
     "output_type": "stream",
     "text": [
      "\n"
     ]
    }
   ],
   "source": [
    "run_test(name=\"prompt_combined_title\",generate_method = generate_prompt_combined_title)\n"
   ]
  },
  {
   "attachments": {},
   "cell_type": "markdown",
   "metadata": {},
   "source": [
    "### Langchain知识库+One shot\n"
   ]
  },
  {
   "cell_type": "code",
   "execution_count": 8,
   "metadata": {},
   "outputs": [],
   "source": [
    "from langchain.embeddings import HuggingFaceEmbeddings\n",
    "from langchain.vectorstores import FAISS\n",
    "import pandas as pd\n",
    "\n"
   ]
  },
  {
   "cell_type": "code",
   "execution_count": 10,
   "metadata": {},
   "outputs": [],
   "source": [
    "def create_and_save_vector_db():\n",
    "    df_val_result = pd.read_csv(\"data/train_data.csv\")\n",
    "    context,title = df_val_result['context'].tolist(),df_val_result['title'].tolist()\n",
    "    text = ['示例新闻内容：'+context[i]+'\\n\\n示例新闻标题：'+title[i] for i in range(len(title))]\n",
    "    embeddings = HuggingFaceEmbeddings(model_name=\"GanymedeNil/text2vec-large-chinese\",model_kwargs={\"device\": \"mps\"}) #本机运行环境为MacOS，调用苹果的ML加速，device为mps，如果是Linux或者Windows，可以改为cuda\n",
    "    db = FAISS.from_texts(text, embeddings)\n",
    "    db.save_local(\"vector_db\")\n",
    "    \n",
    "    \n",
    "def load_vector_db():\n",
    "    embeddings = HuggingFaceEmbeddings(model_name=\"GanymedeNil/text2vec-large-chinese\",model_kwargs={\"device\": \"mps\"})\n",
    "    db = FAISS.load_local(\"vector_db\", embeddings)\n",
    "    return db\n",
    "\n",
    "\n",
    "def get_example(db,query):\n",
    "    query_result = db.similarity_search(query, k=1)\n",
    "    return query_result[0].page_content\n",
    "\n",
    "\n",
    "def generate_prompt_example_title(context,db):\n",
    "    prompt = PromptTemplate(\n",
    "        input_variables=[\"context\",\"example\"],\n",
    "        template=\"{example}\\n\\n请参照上面的示例，帮我写一个20字以内的新闻短标题，标题要能简洁明了概括新闻、吸引读者、具有文采。\\n新闻内容：{context}\",\n",
    "    )\n",
    "    \n",
    "    example = get_example(db,context)\n",
    "    chain = get_chatglm_chain(prompt)\n",
    "    result = chain.run({'context':context,'example':example})\n",
    "    return result\n",
    "        "
   ]
  },
  {
   "cell_type": "code",
   "execution_count": 19,
   "metadata": {},
   "outputs": [],
   "source": [
    "# 加载与保存数据库\n",
    "# create_and_save_vector_db()\n",
    "# 耗时15分34秒\n"
   ]
  },
  {
   "cell_type": "code",
   "execution_count": 11,
   "metadata": {},
   "outputs": [
    {
     "name": "stderr",
     "output_type": "stream",
     "text": [
      "/Users/tianminghao/miniforge3/envs/title-generate/lib/python3.11/site-packages/tqdm/auto.py:21: TqdmWarning: IProgress not found. Please update jupyter and ipywidgets. See https://ipywidgets.readthedocs.io/en/stable/user_install.html\n",
      "  from .autonotebook import tqdm as notebook_tqdm\n",
      "No sentence-transformers model found with name /Users/tianminghao/.cache/torch/sentence_transformers/GanymedeNil_text2vec-large-chinese. Creating a new one with MEAN pooling.\n"
     ]
    },
    {
     "name": "stdout",
     "output_type": "stream",
     "text": [
      "示例新闻内容：　　文/泡菜先锋\n",
      "　　【新浪游戏独家专稿，转载请注明出处】\n",
      "　　近日，韩服《C9》(国服名：第九大陆)推出了第五大陆后半部内容视频，以吸引玩家们的眼球。\n",
      "　　《第九大陆》是一款全3D动作MMORPG，由NHNGames公司从2006年开始策划及开发。游戏画面效果出色，且具有出色的人工智能怪物，与玩家进行对抗。《第九大陆》自2009年8月起在韩国运营，其公测首日就吸引了42万余人前来体验。在2009年韩国年度游戏评奖典礼上更是包揽了总统奖、优秀开发者、图形、角色、音效5项大奖。\n",
      "　　《第九大陆》国服由腾讯游戏运营。\n",
      "\n",
      "\n",
      "\n",
      "示例新闻标题：韩服《C9》第五大陆后半部内容视频\n"
     ]
    }
   ],
   "source": [
    "# 测试一下向量数据库查询\n",
    "query = \"明星八卦\"\n",
    "db = load_vector_db()\n",
    "print(get_example(db,query))"
   ]
  },
  {
   "cell_type": "code",
   "execution_count": 27,
   "metadata": {},
   "outputs": [
    {
     "name": "stderr",
     "output_type": "stream",
     "text": [
      " 20%|██        | 1/5 [00:08<00:34,  8.54s/it]"
     ]
    },
    {
     "name": "stdout",
     "output_type": "stream",
     "text": [
      "刘烨儿子取名诺一：生个女儿就叫“千金”-----张柏芝产二胎 谢霆锋陪产剪脐带 媒体苦等消息\n"
     ]
    },
    {
     "name": "stderr",
     "output_type": "stream",
     "text": [
      " 40%|████      | 2/5 [00:13<00:18,  6.24s/it]"
     ]
    },
    {
     "name": "stdout",
     "output_type": "stream",
     "text": [
      "乡村乐组合Sugarland遭前队友索赔1400万美元-----美国乡村乐组合 Sugarland 与前队友达成和解，避免财务诉讼\n"
     ]
    },
    {
     "name": "stderr",
     "output_type": "stream",
     "text": [
      " 60%|██████    | 3/5 [00:18<00:12,  6.01s/it]"
     ]
    },
    {
     "name": "stdout",
     "output_type": "stream",
     "text": [
      "彩民周刊10139期双色球：一区2路号已亟待回补-----双色球第10139期奖号预测\n"
     ]
    },
    {
     "name": "stderr",
     "output_type": "stream",
     "text": [
      " 80%|████████  | 4/5 [00:22<00:05,  5.24s/it]"
     ]
    },
    {
     "name": "stdout",
     "output_type": "stream",
     "text": [
      "女子锤杀出轨丈夫割下其生殖器(图)-----男子锤杀妻子并割下其生殖器后自首，法院轻判凶手14年\n"
     ]
    },
    {
     "name": "stderr",
     "output_type": "stream",
     "text": [
      "100%|██████████| 5/5 [00:26<00:00,  5.25s/it]"
     ]
    },
    {
     "name": "stdout",
     "output_type": "stream",
     "text": [
      "北大考研记：打开双手世界就在你手中-----白羊座男友大男子主义严重，女友心灵孤单\n"
     ]
    },
    {
     "name": "stderr",
     "output_type": "stream",
     "text": [
      "\n"
     ]
    }
   ],
   "source": [
    "run_test(name=\"prompt_example_title\",generate_method = generate_prompt_example_title,vector_db=db)\n",
    "# 耗时51秒"
   ]
  },
  {
   "attachments": {},
   "cell_type": "markdown",
   "metadata": {},
   "source": [
    "## 生成数据"
   ]
  },
  {
   "cell_type": "code",
   "execution_count": 12,
   "metadata": {},
   "outputs": [],
   "source": [
    "test_result_path = \"result/test_result.csv\"\n",
    "val_result_path = \"result/val_result.csv\""
   ]
  },
  {
   "cell_type": "code",
   "execution_count": 28,
   "metadata": {},
   "outputs": [],
   "source": [
    "# 创建保存结果的csv\n",
    "def create_result_csv(path,raw_csv_path):\n",
    "    df_raw = pd.read_csv(raw_csv_path)\n",
    "    df_result = pd.DataFrame(columns=['title','context'])\n",
    "    df_result['title'] = df_raw['title']\n",
    "    df_result['context'] = df_raw['context']\n",
    "    df_result.to_csv(path,index=False)\n",
    "\n",
    "\n",
    "create_result_csv(\"result/test_result.csv\",\"data/test_data.csv\")\n",
    "create_result_csv(\"result/val_result.csv\",\"data/val_data.csv\")\n"
   ]
  },
  {
   "attachments": {},
   "cell_type": "markdown",
   "metadata": {},
   "source": [
    "### 测试集"
   ]
  },
  {
   "cell_type": "code",
   "execution_count": 29,
   "metadata": {},
   "outputs": [
    {
     "name": "stderr",
     "output_type": "stream",
     "text": [
      "100%|██████████| 200/200 [21:10<00:00,  6.35s/it]\n"
     ]
    },
    {
     "data": {
      "text/html": [
       "<div>\n",
       "<style scoped>\n",
       "    .dataframe tbody tr th:only-of-type {\n",
       "        vertical-align: middle;\n",
       "    }\n",
       "\n",
       "    .dataframe tbody tr th {\n",
       "        vertical-align: top;\n",
       "    }\n",
       "\n",
       "    .dataframe thead th {\n",
       "        text-align: right;\n",
       "    }\n",
       "</style>\n",
       "<table border=\"1\" class=\"dataframe\">\n",
       "  <thead>\n",
       "    <tr style=\"text-align: right;\">\n",
       "      <th></th>\n",
       "      <th>title</th>\n",
       "      <th>context</th>\n",
       "      <th>chatglm_one_shot</th>\n",
       "    </tr>\n",
       "  </thead>\n",
       "  <tbody>\n",
       "    <tr>\n",
       "      <th>0</th>\n",
       "      <td>刘烨儿子取名诺一：生个女儿就叫“千金”</td>\n",
       "      <td>32岁的刘烨当爸了，给儿子取名“诺一”。昨天，从法国风尘仆仆赶回、直奔《爱出色》官网启动...</td>\n",
       "      <td>张柏芝产二胎 谢霆锋陪产剪脐带 媒体苦等消息</td>\n",
       "    </tr>\n",
       "    <tr>\n",
       "      <th>1</th>\n",
       "      <td>乡村乐组合Sugarland遭前队友索赔1400万美元</td>\n",
       "      <td>新浪娱乐讯 北京时间11月15日消息，据国外媒体报道，美国乡村乐双人组合Sugarlan...</td>\n",
       "      <td>美国乡村乐组合 Sugarland 与前队友达成和解，避免财务诉讼</td>\n",
       "    </tr>\n",
       "    <tr>\n",
       "      <th>2</th>\n",
       "      <td>彩民周刊10139期双色球：一区2路号已亟待回补</td>\n",
       "      <td>综述下期遗漏值\\n　　一、遗漏1期号码07、09、10、13、19、33。\\n　　上述号...</td>\n",
       "      <td>双色球第10139期奖号预测</td>\n",
       "    </tr>\n",
       "    <tr>\n",
       "      <th>3</th>\n",
       "      <td>女子锤杀出轨丈夫割下其生殖器(图)</td>\n",
       "      <td>本报讯 昨日，漳州龙文区法院对“女子锤死丈夫并割下其生殖器”一案进行一审判决，被告人王某...</td>\n",
       "      <td>男子锤杀妻子并割下其生殖器后自首，法院轻判凶手14年</td>\n",
       "    </tr>\n",
       "    <tr>\n",
       "      <th>4</th>\n",
       "      <td>北大考研记：打开双手世界就在你手中</td>\n",
       "      <td>天空映射着未名湖的秀美，漫步在湖边小路，此情此景，刺激我敏感的思绪奔越进数年前，回想与北...</td>\n",
       "      <td>白羊座男友大男子主义严重，女友心灵孤单</td>\n",
       "    </tr>\n",
       "    <tr>\n",
       "      <th>...</th>\n",
       "      <td>...</td>\n",
       "      <td>...</td>\n",
       "      <td>...</td>\n",
       "    </tr>\n",
       "    <tr>\n",
       "      <th>195</th>\n",
       "      <td>基金公司海捞专户投资经理</td>\n",
       "      <td>证券时报记者 程俊琳\\n　　本报讯 随着多元化业务的拓展，基金公司的人才缺口越来越大。面...</td>\n",
       "      <td>1. 基金“一对多”业务在国内铺开，券商集合理财加入混战</td>\n",
       "    </tr>\n",
       "    <tr>\n",
       "      <th>196</th>\n",
       "      <td>汉堡主场输球难倒众媒体--胜负彩09041期媒体比对</td>\n",
       "      <td>北京时间05月17日，中国足球彩票中国足球彩票14场胜负游戏第09041期比赛结束，本期...</td>\n",
       "      <td>媒体推荐历史命中率统计比对，新浪体育提供参考</td>\n",
       "    </tr>\n",
       "    <tr>\n",
       "      <th>197</th>\n",
       "      <td>徐若�富二代男友：以结婚为前提交往 已见家长</td>\n",
       "      <td>徐若?和富二代贺锡敬恋情曝光，25日贺锡敬出席活动时，被逼问和徐若?的交往情况，他松口表...</td>\n",
       "      <td>徐若？和富二代贺锡敬公开恋情，两人已见过家长，但徐若？太忙成“空中飞人”</td>\n",
       "    </tr>\n",
       "    <tr>\n",
       "      <th>198</th>\n",
       "      <td>三个亿元奖皆被神秘兑走 仅广州9668万得主露真容</td>\n",
       "      <td>中国人一向信奉“人怕出名猪怕壮”，中了彩票巨奖后的兴奋可想而知，但如何躲过媒体耳目成功兑...</td>\n",
       "      <td>最淡定的500万大奖得主：神秘现身，仅一人领奖</td>\n",
       "    </tr>\n",
       "    <tr>\n",
       "      <th>199</th>\n",
       "      <td>泰国逮捕已故鸦片大王坤沙手下 扣押上亿泰铢</td>\n",
       "      <td>中新网3月21日电 人称金三角鸦片大王的坤沙(Khun Sa)虽已过世一年多，但贩毒势力...</td>\n",
       "      <td>泰国特调部逮捕金三角鸦片大王坤沙网络三名成员</td>\n",
       "    </tr>\n",
       "  </tbody>\n",
       "</table>\n",
       "<p>200 rows × 3 columns</p>\n",
       "</div>"
      ],
      "text/plain": [
       "                           title   \n",
       "0            刘烨儿子取名诺一：生个女儿就叫“千金”  \\\n",
       "1    乡村乐组合Sugarland遭前队友索赔1400万美元   \n",
       "2       彩民周刊10139期双色球：一区2路号已亟待回补   \n",
       "3              女子锤杀出轨丈夫割下其生殖器(图)   \n",
       "4              北大考研记：打开双手世界就在你手中   \n",
       "..                           ...   \n",
       "195                 基金公司海捞专户投资经理   \n",
       "196   汉堡主场输球难倒众媒体--胜负彩09041期媒体比对   \n",
       "197       徐若�富二代男友：以结婚为前提交往 已见家长   \n",
       "198    三个亿元奖皆被神秘兑走 仅广州9668万得主露真容   \n",
       "199        泰国逮捕已故鸦片大王坤沙手下 扣押上亿泰铢   \n",
       "\n",
       "                                               context   \n",
       "0    　　32岁的刘烨当爸了，给儿子取名“诺一”。昨天，从法国风尘仆仆赶回、直奔《爱出色》官网启动...  \\\n",
       "1    　　新浪娱乐讯 北京时间11月15日消息，据国外媒体报道，美国乡村乐双人组合Sugarlan...   \n",
       "2    　　综述下期遗漏值\\n　　一、遗漏1期号码07、09、10、13、19、33。\\n　　上述号...   \n",
       "3    　　本报讯 昨日，漳州龙文区法院对“女子锤死丈夫并割下其生殖器”一案进行一审判决，被告人王某...   \n",
       "4    　　天空映射着未名湖的秀美，漫步在湖边小路，此情此景，刺激我敏感的思绪奔越进数年前，回想与北...   \n",
       "..                                                 ...   \n",
       "195  　　证券时报记者 程俊琳\\n　　本报讯 随着多元化业务的拓展，基金公司的人才缺口越来越大。面...   \n",
       "196  　　北京时间05月17日，中国足球彩票中国足球彩票14场胜负游戏第09041期比赛结束，本期...   \n",
       "197  　　徐若?和富二代贺锡敬恋情曝光，25日贺锡敬出席活动时，被逼问和徐若?的交往情况，他松口表...   \n",
       "198  　　中国人一向信奉“人怕出名猪怕壮”，中了彩票巨奖后的兴奋可想而知，但如何躲过媒体耳目成功兑...   \n",
       "199  　　中新网3月21日电 人称金三角鸦片大王的坤沙(Khun Sa)虽已过世一年多，但贩毒势力...   \n",
       "\n",
       "                         chatglm_one_shot  \n",
       "0                  张柏芝产二胎 谢霆锋陪产剪脐带 媒体苦等消息  \n",
       "1       美国乡村乐组合 Sugarland 与前队友达成和解，避免财务诉讼  \n",
       "2                          双色球第10139期奖号预测  \n",
       "3              男子锤杀妻子并割下其生殖器后自首，法院轻判凶手14年  \n",
       "4                     白羊座男友大男子主义严重，女友心灵孤单  \n",
       "..                                    ...  \n",
       "195          1. 基金“一对多”业务在国内铺开，券商集合理财加入混战  \n",
       "196                媒体推荐历史命中率统计比对，新浪体育提供参考  \n",
       "197  徐若？和富二代贺锡敬公开恋情，两人已见过家长，但徐若？太忙成“空中飞人”  \n",
       "198               最淡定的500万大奖得主：神秘现身，仅一人领奖  \n",
       "199                泰国特调部逮捕金三角鸦片大王坤沙网络三名成员  \n",
       "\n",
       "[200 rows x 3 columns]"
      ]
     },
     "execution_count": 29,
     "metadata": {},
     "output_type": "execute_result"
    }
   ],
   "source": [
    "run(name=\"chatglm_one_shot\",generate_method = generate_prompt_example_title,vector_db=db,read_path=test_result_path,save_path=test_result_path)\n"
   ]
  },
  {
   "cell_type": "code",
   "execution_count": 30,
   "metadata": {},
   "outputs": [
    {
     "name": "stderr",
     "output_type": "stream",
     "text": [
      "100%|██████████| 200/200 [16:11<00:00,  4.86s/it] \n"
     ]
    },
    {
     "data": {
      "text/html": [
       "<div>\n",
       "<style scoped>\n",
       "    .dataframe tbody tr th:only-of-type {\n",
       "        vertical-align: middle;\n",
       "    }\n",
       "\n",
       "    .dataframe tbody tr th {\n",
       "        vertical-align: top;\n",
       "    }\n",
       "\n",
       "    .dataframe thead th {\n",
       "        text-align: right;\n",
       "    }\n",
       "</style>\n",
       "<table border=\"1\" class=\"dataframe\">\n",
       "  <thead>\n",
       "    <tr style=\"text-align: right;\">\n",
       "      <th></th>\n",
       "      <th>title</th>\n",
       "      <th>context</th>\n",
       "      <th>chatglm_one_shot</th>\n",
       "      <th>chatglm_zero_shot</th>\n",
       "    </tr>\n",
       "  </thead>\n",
       "  <tbody>\n",
       "    <tr>\n",
       "      <th>0</th>\n",
       "      <td>刘烨儿子取名诺一：生个女儿就叫“千金”</td>\n",
       "      <td>32岁的刘烨当爸了，给儿子取名“诺一”。昨天，从法国风尘仆仆赶回、直奔《爱出色》官网启动...</td>\n",
       "      <td>张柏芝产二胎 谢霆锋陪产剪脐带 媒体苦等消息</td>\n",
       "      <td>刘烨儿子命名“诺一”，范冰冰落选《建党伟业》小凤仙角色；Angelababy入组《建党伟业》...</td>\n",
       "    </tr>\n",
       "    <tr>\n",
       "      <th>1</th>\n",
       "      <td>乡村乐组合Sugarland遭前队友索赔1400万美元</td>\n",
       "      <td>新浪娱乐讯 北京时间11月15日消息，据国外媒体报道，美国乡村乐双人组合Sugarlan...</td>\n",
       "      <td>美国乡村乐组合 Sugarland 与前队友达成和解，避免财务诉讼</td>\n",
       "      <td>Sugarland组合与前队友克里斯汀-霍尔之间的财务诉讼庭审成功和解</td>\n",
       "    </tr>\n",
       "    <tr>\n",
       "      <th>2</th>\n",
       "      <td>彩民周刊10139期双色球：一区2路号已亟待回补</td>\n",
       "      <td>综述下期遗漏值\\n　　一、遗漏1期号码07、09、10、13、19、33。\\n　　上述号...</td>\n",
       "      <td>双色球第10139期奖号预测</td>\n",
       "      <td>下期遗漏值综述：1路号07、10概率较大，4枚1路号或2枚2路号；0路号33删除；25、15...</td>\n",
       "    </tr>\n",
       "    <tr>\n",
       "      <th>3</th>\n",
       "      <td>女子锤杀出轨丈夫割下其生殖器(图)</td>\n",
       "      <td>本报讯 昨日，漳州龙文区法院对“女子锤死丈夫并割下其生殖器”一案进行一审判决，被告人王某...</td>\n",
       "      <td>男子锤杀妻子并割下其生殖器后自首，法院轻判凶手14年</td>\n",
       "      <td>女子锤杀丈夫并割下其生殖器，法院轻判凶手14年</td>\n",
       "    </tr>\n",
       "    <tr>\n",
       "      <th>4</th>\n",
       "      <td>北大考研记：打开双手世界就在你手中</td>\n",
       "      <td>天空映射着未名湖的秀美，漫步在湖边小路，此情此景，刺激我敏感的思绪奔越进数年前，回想与北...</td>\n",
       "      <td>白羊座男友大男子主义严重，女友心灵孤单</td>\n",
       "      <td>考生坚持考研，梦想实现在望</td>\n",
       "    </tr>\n",
       "    <tr>\n",
       "      <th>...</th>\n",
       "      <td>...</td>\n",
       "      <td>...</td>\n",
       "      <td>...</td>\n",
       "      <td>...</td>\n",
       "    </tr>\n",
       "    <tr>\n",
       "      <th>195</th>\n",
       "      <td>基金公司海捞专户投资经理</td>\n",
       "      <td>证券时报记者 程俊琳\\n　　本报讯 随着多元化业务的拓展，基金公司的人才缺口越来越大。面...</td>\n",
       "      <td>1. 基金“一对多”业务在国内铺开，券商集合理财加入混战</td>\n",
       "      <td>基金公司人才缺口大，券商、保险等金融机构被挖角</td>\n",
       "    </tr>\n",
       "    <tr>\n",
       "      <th>196</th>\n",
       "      <td>汉堡主场输球难倒众媒体--胜负彩09041期媒体比对</td>\n",
       "      <td>北京时间05月17日，中国足球彩票中国足球彩票14场胜负游戏第09041期比赛结束，本期...</td>\n",
       "      <td>媒体推荐历史命中率统计比对，新浪体育提供参考</td>\n",
       "      <td>新浪体育比较多家媒体投注推介，发现其中一些媒体的历史命中率较低</td>\n",
       "    </tr>\n",
       "    <tr>\n",
       "      <th>197</th>\n",
       "      <td>徐若�富二代男友：以结婚为前提交往 已见家长</td>\n",
       "      <td>徐若?和富二代贺锡敬恋情曝光，25日贺锡敬出席活动时，被逼问和徐若?的交往情况，他松口表...</td>\n",
       "      <td>徐若？和富二代贺锡敬公开恋情，两人已见过家长，但徐若？太忙成“空中飞人”</td>\n",
       "      <td>徐若？和富二代贺锡敬公开恋情，已见过家长，相处轻松</td>\n",
       "    </tr>\n",
       "    <tr>\n",
       "      <th>198</th>\n",
       "      <td>三个亿元奖皆被神秘兑走 仅广州9668万得主露真容</td>\n",
       "      <td>中国人一向信奉“人怕出名猪怕壮”，中了彩票巨奖后的兴奋可想而知，但如何躲过媒体耳目成功兑...</td>\n",
       "      <td>最淡定的500万大奖得主：神秘现身，仅一人领奖</td>\n",
       "      <td>中国彩市诞生三大亿元巨奖，大奖得主如何躲过媒体目光成功兑奖及不公开真容？</td>\n",
       "    </tr>\n",
       "    <tr>\n",
       "      <th>199</th>\n",
       "      <td>泰国逮捕已故鸦片大王坤沙手下 扣押上亿泰铢</td>\n",
       "      <td>中新网3月21日电 人称金三角鸦片大王的坤沙(Khun Sa)虽已过世一年多，但贩毒势力...</td>\n",
       "      <td>泰国特调部逮捕金三角鸦片大王坤沙网络三名成员</td>\n",
       "      <td>泰国特调部逮捕金三角鸦片大王坤沙网络三名成员</td>\n",
       "    </tr>\n",
       "  </tbody>\n",
       "</table>\n",
       "<p>200 rows × 4 columns</p>\n",
       "</div>"
      ],
      "text/plain": [
       "                           title   \n",
       "0            刘烨儿子取名诺一：生个女儿就叫“千金”  \\\n",
       "1    乡村乐组合Sugarland遭前队友索赔1400万美元   \n",
       "2       彩民周刊10139期双色球：一区2路号已亟待回补   \n",
       "3              女子锤杀出轨丈夫割下其生殖器(图)   \n",
       "4              北大考研记：打开双手世界就在你手中   \n",
       "..                           ...   \n",
       "195                 基金公司海捞专户投资经理   \n",
       "196   汉堡主场输球难倒众媒体--胜负彩09041期媒体比对   \n",
       "197       徐若�富二代男友：以结婚为前提交往 已见家长   \n",
       "198    三个亿元奖皆被神秘兑走 仅广州9668万得主露真容   \n",
       "199        泰国逮捕已故鸦片大王坤沙手下 扣押上亿泰铢   \n",
       "\n",
       "                                               context   \n",
       "0    　　32岁的刘烨当爸了，给儿子取名“诺一”。昨天，从法国风尘仆仆赶回、直奔《爱出色》官网启动...  \\\n",
       "1    　　新浪娱乐讯 北京时间11月15日消息，据国外媒体报道，美国乡村乐双人组合Sugarlan...   \n",
       "2    　　综述下期遗漏值\\n　　一、遗漏1期号码07、09、10、13、19、33。\\n　　上述号...   \n",
       "3    　　本报讯 昨日，漳州龙文区法院对“女子锤死丈夫并割下其生殖器”一案进行一审判决，被告人王某...   \n",
       "4    　　天空映射着未名湖的秀美，漫步在湖边小路，此情此景，刺激我敏感的思绪奔越进数年前，回想与北...   \n",
       "..                                                 ...   \n",
       "195  　　证券时报记者 程俊琳\\n　　本报讯 随着多元化业务的拓展，基金公司的人才缺口越来越大。面...   \n",
       "196  　　北京时间05月17日，中国足球彩票中国足球彩票14场胜负游戏第09041期比赛结束，本期...   \n",
       "197  　　徐若?和富二代贺锡敬恋情曝光，25日贺锡敬出席活动时，被逼问和徐若?的交往情况，他松口表...   \n",
       "198  　　中国人一向信奉“人怕出名猪怕壮”，中了彩票巨奖后的兴奋可想而知，但如何躲过媒体耳目成功兑...   \n",
       "199  　　中新网3月21日电 人称金三角鸦片大王的坤沙(Khun Sa)虽已过世一年多，但贩毒势力...   \n",
       "\n",
       "                         chatglm_one_shot   \n",
       "0                  张柏芝产二胎 谢霆锋陪产剪脐带 媒体苦等消息  \\\n",
       "1       美国乡村乐组合 Sugarland 与前队友达成和解，避免财务诉讼   \n",
       "2                          双色球第10139期奖号预测   \n",
       "3              男子锤杀妻子并割下其生殖器后自首，法院轻判凶手14年   \n",
       "4                     白羊座男友大男子主义严重，女友心灵孤单   \n",
       "..                                    ...   \n",
       "195          1. 基金“一对多”业务在国内铺开，券商集合理财加入混战   \n",
       "196                媒体推荐历史命中率统计比对，新浪体育提供参考   \n",
       "197  徐若？和富二代贺锡敬公开恋情，两人已见过家长，但徐若？太忙成“空中飞人”   \n",
       "198               最淡定的500万大奖得主：神秘现身，仅一人领奖   \n",
       "199                泰国特调部逮捕金三角鸦片大王坤沙网络三名成员   \n",
       "\n",
       "                                     chatglm_zero_shot  \n",
       "0    刘烨儿子命名“诺一”，范冰冰落选《建党伟业》小凤仙角色；Angelababy入组《建党伟业》...  \n",
       "1                  Sugarland组合与前队友克里斯汀-霍尔之间的财务诉讼庭审成功和解  \n",
       "2    下期遗漏值综述：1路号07、10概率较大，4枚1路号或2枚2路号；0路号33删除；25、15...  \n",
       "3                              女子锤杀丈夫并割下其生殖器，法院轻判凶手14年  \n",
       "4                                        考生坚持考研，梦想实现在望  \n",
       "..                                                 ...  \n",
       "195                            基金公司人才缺口大，券商、保险等金融机构被挖角  \n",
       "196                    新浪体育比较多家媒体投注推介，发现其中一些媒体的历史命中率较低  \n",
       "197                          徐若？和富二代贺锡敬公开恋情，已见过家长，相处轻松  \n",
       "198               中国彩市诞生三大亿元巨奖，大奖得主如何躲过媒体目光成功兑奖及不公开真容？  \n",
       "199                             泰国特调部逮捕金三角鸦片大王坤沙网络三名成员  \n",
       "\n",
       "[200 rows x 4 columns]"
      ]
     },
     "execution_count": 30,
     "metadata": {},
     "output_type": "execute_result"
    }
   ],
   "source": [
    "run(name=\"chatglm_zero_shot\", generate_method=generate_prompt_direcet_title, read_path=test_result_path, save_path=test_result_path)"
   ]
  },
  {
   "cell_type": "code",
   "execution_count": 31,
   "metadata": {},
   "outputs": [
    {
     "name": "stderr",
     "output_type": "stream",
     "text": [
      "  9%|▉         | 18/200 [15:36<2:24:58, 47.79s/it]"
     ]
    }
   ],
   "source": [
    "run(name=\"chatglm_least_to_most\", generate_method=generate_prompt_combined_title, read_path=test_result_path, save_path=test_result_path)"
   ]
  },
  {
   "attachments": {},
   "cell_type": "markdown",
   "metadata": {},
   "source": [
    "### 验证集"
   ]
  },
  {
   "cell_type": "code",
   "execution_count": 13,
   "metadata": {},
   "outputs": [
    {
     "name": "stderr",
     "output_type": "stream",
     "text": [
      "100%|██████████| 200/200 [19:08<00:00,  5.74s/it]\n"
     ]
    },
    {
     "data": {
      "text/html": [
       "<div>\n",
       "<style scoped>\n",
       "    .dataframe tbody tr th:only-of-type {\n",
       "        vertical-align: middle;\n",
       "    }\n",
       "\n",
       "    .dataframe tbody tr th {\n",
       "        vertical-align: top;\n",
       "    }\n",
       "\n",
       "    .dataframe thead th {\n",
       "        text-align: right;\n",
       "    }\n",
       "</style>\n",
       "<table border=\"1\" class=\"dataframe\">\n",
       "  <thead>\n",
       "    <tr style=\"text-align: right;\">\n",
       "      <th></th>\n",
       "      <th>title</th>\n",
       "      <th>context</th>\n",
       "      <th>chatglm_one_shot</th>\n",
       "    </tr>\n",
       "  </thead>\n",
       "  <tbody>\n",
       "    <tr>\n",
       "      <th>0</th>\n",
       "      <td>东二环精装小户13000元起 付全款96折(组图)</td>\n",
       "      <td>东二环精装MINI空间——FREE自由季，主力户型56平米一居，定于5月16日盛大开盘，...</td>\n",
       "      <td>东二环精装MINI空间Free自由季5月16日盛大开盘，VIP卡办理中，96折和9.8折惊喜...</td>\n",
       "    </tr>\n",
       "    <tr>\n",
       "      <th>1</th>\n",
       "      <td>Adobe：IE10不支持Flash插件影响不大</td>\n",
       "      <td>新浪科技讯 北京时间9月16日早间消息，微软已表示，Windows 8的“Metro”风...</td>\n",
       "      <td>微软停止Windows 8“Metro”风格IE10浏览器Flash支持</td>\n",
       "    </tr>\n",
       "    <tr>\n",
       "      <th>2</th>\n",
       "      <td>詹天佑09149期福彩3D分析：胆码7 合值范围10-19</td>\n",
       "      <td>一、本人通过钟摆撞击来分析，上期开出奖号831最后的落脚点立于1数字，本期钟摆力会有所改...</td>\n",
       "      <td></td>\n",
       "    </tr>\n",
       "    <tr>\n",
       "      <th>3</th>\n",
       "      <td>低调之中尽显光芒 徕卡X1送手柄15980</td>\n",
       "      <td>【5月24日太平洋电脑网浙江站】如果说当年的徕卡品牌代表着一个大众品牌，代表着摄影工业的...</td>\n",
       "      <td>徕卡X1大陆行货价格亲民 仅15980元</td>\n",
       "    </tr>\n",
       "    <tr>\n",
       "      <th>4</th>\n",
       "      <td>欧洲杯预选赛积分榜 德意逼近出线 法国优势缩小</td>\n",
       "      <td>北京时间6月4日凌晨，2012欧洲杯预选赛进行第6轮比赛，结果德国和意大利战胜对手提前出...</td>\n",
       "      <td>2012欧洲杯预选赛：德国和意大利提前出线，法国客场战平白俄罗斯</td>\n",
       "    </tr>\n",
       "    <tr>\n",
       "      <th>...</th>\n",
       "      <td>...</td>\n",
       "      <td>...</td>\n",
       "      <td>...</td>\n",
       "    </tr>\n",
       "    <tr>\n",
       "      <th>195</th>\n",
       "      <td>盖茨投资资产去年四季减少30亿美元</td>\n",
       "      <td>巴菲特旗下资产减值近三成 \\n　　缩水180亿美元；盖茨投资资产减少30亿美元 \\n　　...</td>\n",
       "      <td>巴菲特旗下资产减值近三成，缩水180亿美元；盖茨投资资产减少30亿美元</td>\n",
       "    </tr>\n",
       "    <tr>\n",
       "      <th>196</th>\n",
       "      <td>优质的壁纸是打造韩式风情的重要元素(图)</td>\n",
       "      <td>80平米的两居小户型，在装饰上比较注重简约温馨的氛围，过于奢华、繁杂的风格会使其没有空间...</td>\n",
       "      <td>80平米小户型装修指南</td>\n",
       "    </tr>\n",
       "    <tr>\n",
       "      <th>197</th>\n",
       "      <td>整体以玫瑰色系为主(图)</td>\n",
       "      <td>玫瑰花点缀洁具，整体以玫瑰色系为主，极有浪漫情调。\\n\\n</td>\n",
       "      <td>玫瑰点缀洁具，浪漫情调十足</td>\n",
       "    </tr>\n",
       "    <tr>\n",
       "      <th>198</th>\n",
       "      <td>08年全国成人高考成绩11月3日前公布</td>\n",
       "      <td>导报讯 (驻福州记者 林芹)昨日，记者从省教育厅获悉，全国成人高校招生统一考试考生成绩将...</td>\n",
       "      <td>成人高校招生统一考试成绩公布 录取线划定 集中录取和补录取时间公布</td>\n",
       "    </tr>\n",
       "    <tr>\n",
       "      <th>199</th>\n",
       "      <td>E3展馆基督教徒举牌示威纯属EA炒作</td>\n",
       "      <td>E3 2009展馆前部分基督教徒举牌示威，指责EA是反基督教公司一幕，原来是EA的炒作。...</td>\n",
       "      <td>EA炒起基督教徒抗议事件，玩但丁游戏被指反基督教</td>\n",
       "    </tr>\n",
       "  </tbody>\n",
       "</table>\n",
       "<p>200 rows × 3 columns</p>\n",
       "</div>"
      ],
      "text/plain": [
       "                             title   \n",
       "0        东二环精装小户13000元起 付全款96折(组图)  \\\n",
       "1         Adobe：IE10不支持Flash插件影响不大   \n",
       "2    詹天佑09149期福彩3D分析：胆码7 合值范围10-19   \n",
       "3            低调之中尽显光芒 徕卡X1送手柄15980   \n",
       "4          欧洲杯预选赛积分榜 德意逼近出线 法国优势缩小   \n",
       "..                             ...   \n",
       "195              盖茨投资资产去年四季减少30亿美元   \n",
       "196           优质的壁纸是打造韩式风情的重要元素(图)   \n",
       "197                   整体以玫瑰色系为主(图)   \n",
       "198            08年全国成人高考成绩11月3日前公布   \n",
       "199             E3展馆基督教徒举牌示威纯属EA炒作   \n",
       "\n",
       "                                               context   \n",
       "0    　　东二环精装MINI空间——FREE自由季，主力户型56平米一居，定于5月16日盛大开盘，...  \\\n",
       "1    　　新浪科技讯 北京时间9月16日早间消息，微软已表示，Windows 8的“Metro”风...   \n",
       "2    　　一、本人通过钟摆撞击来分析，上期开出奖号831最后的落脚点立于1数字，本期钟摆力会有所改...   \n",
       "3    　　【5月24日太平洋电脑网浙江站】如果说当年的徕卡品牌代表着一个大众品牌，代表着摄影工业的...   \n",
       "4    　　北京时间6月4日凌晨，2012欧洲杯预选赛进行第6轮比赛，结果德国和意大利战胜对手提前出...   \n",
       "..                                                 ...   \n",
       "195  　　巴菲特旗下资产减值近三成 \\n　　缩水180亿美元；盖茨投资资产减少30亿美元 \\n　　...   \n",
       "196  　　80平米的两居小户型，在装饰上比较注重简约温馨的氛围，过于奢华、繁杂的风格会使其没有空间...   \n",
       "197                    　　玫瑰花点缀洁具，整体以玫瑰色系为主，极有浪漫情调。\\n\\n   \n",
       "198  　　导报讯 (驻福州记者 林芹)昨日，记者从省教育厅获悉，全国成人高校招生统一考试考生成绩将...   \n",
       "199  　　E3 2009展馆前部分基督教徒举牌示威，指责EA是反基督教公司一幕，原来是EA的炒作。...   \n",
       "\n",
       "                                      chatglm_one_shot  \n",
       "0    东二环精装MINI空间Free自由季5月16日盛大开盘，VIP卡办理中，96折和9.8折惊喜...  \n",
       "1                 微软停止Windows 8“Metro”风格IE10浏览器Flash支持  \n",
       "2                                                       \n",
       "3                                 徕卡X1大陆行货价格亲民 仅15980元  \n",
       "4                     2012欧洲杯预选赛：德国和意大利提前出线，法国客场战平白俄罗斯  \n",
       "..                                                 ...  \n",
       "195                巴菲特旗下资产减值近三成，缩水180亿美元；盖茨投资资产减少30亿美元  \n",
       "196                                        80平米小户型装修指南  \n",
       "197                                      玫瑰点缀洁具，浪漫情调十足  \n",
       "198                  成人高校招生统一考试成绩公布 录取线划定 集中录取和补录取时间公布  \n",
       "199                           EA炒起基督教徒抗议事件，玩但丁游戏被指反基督教  \n",
       "\n",
       "[200 rows x 3 columns]"
      ]
     },
     "execution_count": 13,
     "metadata": {},
     "output_type": "execute_result"
    }
   ],
   "source": [
    "run(name=\"chatglm_one_shot\",generate_method = generate_prompt_example_title,vector_db=db,read_path=val_result_path,save_path=val_result_path)"
   ]
  },
  {
   "cell_type": "code",
   "execution_count": 13,
   "metadata": {},
   "outputs": [
    {
     "name": "stderr",
     "output_type": "stream",
     "text": [
      "100%|██████████| 200/200 [15:29<00:00,  4.65s/it]\n"
     ]
    },
    {
     "data": {
      "text/html": [
       "<div>\n",
       "<style scoped>\n",
       "    .dataframe tbody tr th:only-of-type {\n",
       "        vertical-align: middle;\n",
       "    }\n",
       "\n",
       "    .dataframe tbody tr th {\n",
       "        vertical-align: top;\n",
       "    }\n",
       "\n",
       "    .dataframe thead th {\n",
       "        text-align: right;\n",
       "    }\n",
       "</style>\n",
       "<table border=\"1\" class=\"dataframe\">\n",
       "  <thead>\n",
       "    <tr style=\"text-align: right;\">\n",
       "      <th></th>\n",
       "      <th>title</th>\n",
       "      <th>context</th>\n",
       "      <th>chatglm_one_shot</th>\n",
       "      <th>chatglm_zero_shot</th>\n",
       "    </tr>\n",
       "  </thead>\n",
       "  <tbody>\n",
       "    <tr>\n",
       "      <th>0</th>\n",
       "      <td>东二环精装小户13000元起 付全款96折(组图)</td>\n",
       "      <td>东二环精装MINI空间——FREE自由季，主力户型56平米一居，定于5月16日盛大开盘，...</td>\n",
       "      <td>东二环精装MINI空间Free自由季5月16日盛大开盘，VIP卡办理中，96折和9.8折惊喜...</td>\n",
       "      <td>东二环精装MINI空间 FREE自由季盛大开盘，VIP卡办理中，11700元/m2起！5月1...</td>\n",
       "    </tr>\n",
       "    <tr>\n",
       "      <th>1</th>\n",
       "      <td>Adobe：IE10不支持Flash插件影响不大</td>\n",
       "      <td>新浪科技讯 北京时间9月16日早间消息，微软已表示，Windows 8的“Metro”风...</td>\n",
       "      <td>微软停止Windows 8“Metro”风格IE10浏览器Flash支持</td>\n",
       "      <td>微软停止Windows 8“Metro”风格IE10浏览器支持，Adobe仍有Flash</td>\n",
       "    </tr>\n",
       "    <tr>\n",
       "      <th>2</th>\n",
       "      <td>詹天佑09149期福彩3D分析：胆码7 合值范围10-19</td>\n",
       "      <td>一、本人通过钟摆撞击来分析，上期开出奖号831最后的落脚点立于1数字，本期钟摆力会有所改...</td>\n",
       "      <td>NaN</td>\n",
       "      <td></td>\n",
       "    </tr>\n",
       "    <tr>\n",
       "      <th>3</th>\n",
       "      <td>低调之中尽显光芒 徕卡X1送手柄15980</td>\n",
       "      <td>【5月24日太平洋电脑网浙江站】如果说当年的徕卡品牌代表着一个大众品牌，代表着摄影工业的...</td>\n",
       "      <td>徕卡X1大陆行货价格亲民 仅15980元</td>\n",
       "      <td>徕卡X1大陆行货报价15980元，保留传统同时焕发青春</td>\n",
       "    </tr>\n",
       "    <tr>\n",
       "      <th>4</th>\n",
       "      <td>欧洲杯预选赛积分榜 德意逼近出线 法国优势缩小</td>\n",
       "      <td>北京时间6月4日凌晨，2012欧洲杯预选赛进行第6轮比赛，结果德国和意大利战胜对手提前出...</td>\n",
       "      <td>2012欧洲杯预选赛：德国和意大利提前出线，法国客场战平白俄罗斯</td>\n",
       "      <td>德国和意大利提前出线，法国客场战平，16支球队进入欧洲杯决赛圈</td>\n",
       "    </tr>\n",
       "    <tr>\n",
       "      <th>...</th>\n",
       "      <td>...</td>\n",
       "      <td>...</td>\n",
       "      <td>...</td>\n",
       "      <td>...</td>\n",
       "    </tr>\n",
       "    <tr>\n",
       "      <th>195</th>\n",
       "      <td>盖茨投资资产去年四季减少30亿美元</td>\n",
       "      <td>巴菲特旗下资产减值近三成 \\n　　缩水180亿美元；盖茨投资资产减少30亿美元 \\n　　...</td>\n",
       "      <td>巴菲特旗下资产减值近三成，缩水180亿美元；盖茨投资资产减少30亿美元</td>\n",
       "      <td>巴菲特和盖茨资产缩水严重：巴菲特伯克希尔投资组合缩水180亿美元，盖茨投资资产减少30亿美元</td>\n",
       "    </tr>\n",
       "    <tr>\n",
       "      <th>196</th>\n",
       "      <td>优质的壁纸是打造韩式风情的重要元素(图)</td>\n",
       "      <td>80平米的两居小户型，在装饰上比较注重简约温馨的氛围，过于奢华、繁杂的风格会使其没有空间...</td>\n",
       "      <td>80平米小户型装修指南</td>\n",
       "      <td>80平米小户型装饰：韩式浪漫风格引领空间感</td>\n",
       "    </tr>\n",
       "    <tr>\n",
       "      <th>197</th>\n",
       "      <td>整体以玫瑰色系为主(图)</td>\n",
       "      <td>玫瑰花点缀洁具，整体以玫瑰色系为主，极有浪漫情调。\\n\\n</td>\n",
       "      <td>玫瑰点缀洁具，浪漫情调十足</td>\n",
       "      <td>玫瑰点缀洁具，浪漫情调弥漫</td>\n",
       "    </tr>\n",
       "    <tr>\n",
       "      <th>198</th>\n",
       "      <td>08年全国成人高考成绩11月3日前公布</td>\n",
       "      <td>导报讯 (驻福州记者 林芹)昨日，记者从省教育厅获悉，全国成人高校招生统一考试考生成绩将...</td>\n",
       "      <td>成人高校招生统一考试成绩公布 录取线划定 集中录取和补录取时间公布</td>\n",
       "      <td>福建成人高校招生成绩及录取时间公布</td>\n",
       "    </tr>\n",
       "    <tr>\n",
       "      <th>199</th>\n",
       "      <td>E3展馆基督教徒举牌示威纯属EA炒作</td>\n",
       "      <td>E3 2009展馆前部分基督教徒举牌示威，指责EA是反基督教公司一幕，原来是EA的炒作。...</td>\n",
       "      <td>EA炒起基督教徒抗议事件，玩但丁游戏被指反基督教</td>\n",
       "      <td>EA炒热《但丁的地狱》示威，被指蔑视基督教</td>\n",
       "    </tr>\n",
       "  </tbody>\n",
       "</table>\n",
       "<p>200 rows × 4 columns</p>\n",
       "</div>"
      ],
      "text/plain": [
       "                             title   \n",
       "0        东二环精装小户13000元起 付全款96折(组图)  \\\n",
       "1         Adobe：IE10不支持Flash插件影响不大   \n",
       "2    詹天佑09149期福彩3D分析：胆码7 合值范围10-19   \n",
       "3            低调之中尽显光芒 徕卡X1送手柄15980   \n",
       "4          欧洲杯预选赛积分榜 德意逼近出线 法国优势缩小   \n",
       "..                             ...   \n",
       "195              盖茨投资资产去年四季减少30亿美元   \n",
       "196           优质的壁纸是打造韩式风情的重要元素(图)   \n",
       "197                   整体以玫瑰色系为主(图)   \n",
       "198            08年全国成人高考成绩11月3日前公布   \n",
       "199             E3展馆基督教徒举牌示威纯属EA炒作   \n",
       "\n",
       "                                               context   \n",
       "0    　　东二环精装MINI空间——FREE自由季，主力户型56平米一居，定于5月16日盛大开盘，...  \\\n",
       "1    　　新浪科技讯 北京时间9月16日早间消息，微软已表示，Windows 8的“Metro”风...   \n",
       "2    　　一、本人通过钟摆撞击来分析，上期开出奖号831最后的落脚点立于1数字，本期钟摆力会有所改...   \n",
       "3    　　【5月24日太平洋电脑网浙江站】如果说当年的徕卡品牌代表着一个大众品牌，代表着摄影工业的...   \n",
       "4    　　北京时间6月4日凌晨，2012欧洲杯预选赛进行第6轮比赛，结果德国和意大利战胜对手提前出...   \n",
       "..                                                 ...   \n",
       "195  　　巴菲特旗下资产减值近三成 \\n　　缩水180亿美元；盖茨投资资产减少30亿美元 \\n　　...   \n",
       "196  　　80平米的两居小户型，在装饰上比较注重简约温馨的氛围，过于奢华、繁杂的风格会使其没有空间...   \n",
       "197                    　　玫瑰花点缀洁具，整体以玫瑰色系为主，极有浪漫情调。\\n\\n   \n",
       "198  　　导报讯 (驻福州记者 林芹)昨日，记者从省教育厅获悉，全国成人高校招生统一考试考生成绩将...   \n",
       "199  　　E3 2009展馆前部分基督教徒举牌示威，指责EA是反基督教公司一幕，原来是EA的炒作。...   \n",
       "\n",
       "                                      chatglm_one_shot   \n",
       "0    东二环精装MINI空间Free自由季5月16日盛大开盘，VIP卡办理中，96折和9.8折惊喜...  \\\n",
       "1                 微软停止Windows 8“Metro”风格IE10浏览器Flash支持   \n",
       "2                                                  NaN   \n",
       "3                                 徕卡X1大陆行货价格亲民 仅15980元   \n",
       "4                     2012欧洲杯预选赛：德国和意大利提前出线，法国客场战平白俄罗斯   \n",
       "..                                                 ...   \n",
       "195                巴菲特旗下资产减值近三成，缩水180亿美元；盖茨投资资产减少30亿美元   \n",
       "196                                        80平米小户型装修指南   \n",
       "197                                      玫瑰点缀洁具，浪漫情调十足   \n",
       "198                  成人高校招生统一考试成绩公布 录取线划定 集中录取和补录取时间公布   \n",
       "199                           EA炒起基督教徒抗议事件，玩但丁游戏被指反基督教   \n",
       "\n",
       "                                     chatglm_zero_shot  \n",
       "0    东二环精装MINI空间 FREE自由季盛大开盘，VIP卡办理中，11700元/m2起！5月1...  \n",
       "1         微软停止Windows 8“Metro”风格IE10浏览器支持，Adobe仍有Flash  \n",
       "2                                                       \n",
       "3                          徕卡X1大陆行货报价15980元，保留传统同时焕发青春  \n",
       "4                      德国和意大利提前出线，法国客场战平，16支球队进入欧洲杯决赛圈  \n",
       "..                                                 ...  \n",
       "195     巴菲特和盖茨资产缩水严重：巴菲特伯克希尔投资组合缩水180亿美元，盖茨投资资产减少30亿美元  \n",
       "196                              80平米小户型装饰：韩式浪漫风格引领空间感  \n",
       "197                                      玫瑰点缀洁具，浪漫情调弥漫  \n",
       "198                                  福建成人高校招生成绩及录取时间公布  \n",
       "199                              EA炒热《但丁的地狱》示威，被指蔑视基督教  \n",
       "\n",
       "[200 rows x 4 columns]"
      ]
     },
     "execution_count": 13,
     "metadata": {},
     "output_type": "execute_result"
    }
   ],
   "source": [
    "run(name=\"chatglm_zero_shot\", generate_method=generate_prompt_direcet_title, read_path=val_result_path, save_path=val_result_path)"
   ]
  },
  {
   "cell_type": "code",
   "execution_count": 14,
   "metadata": {},
   "outputs": [
    {
     "name": "stderr",
     "output_type": "stream",
     "text": [
      "100%|██████████| 200/200 [2:07:16<00:00, 38.18s/it]  \n"
     ]
    },
    {
     "data": {
      "text/html": [
       "<div>\n",
       "<style scoped>\n",
       "    .dataframe tbody tr th:only-of-type {\n",
       "        vertical-align: middle;\n",
       "    }\n",
       "\n",
       "    .dataframe tbody tr th {\n",
       "        vertical-align: top;\n",
       "    }\n",
       "\n",
       "    .dataframe thead th {\n",
       "        text-align: right;\n",
       "    }\n",
       "</style>\n",
       "<table border=\"1\" class=\"dataframe\">\n",
       "  <thead>\n",
       "    <tr style=\"text-align: right;\">\n",
       "      <th></th>\n",
       "      <th>title</th>\n",
       "      <th>context</th>\n",
       "      <th>chatglm_one_shot</th>\n",
       "      <th>chatglm_zero_shot</th>\n",
       "      <th>chatglm_least_to_most</th>\n",
       "    </tr>\n",
       "  </thead>\n",
       "  <tbody>\n",
       "    <tr>\n",
       "      <th>0</th>\n",
       "      <td>东二环精装小户13000元起 付全款96折(组图)</td>\n",
       "      <td>东二环精装MINI空间——FREE自由季，主力户型56平米一居，定于5月16日盛大开盘，...</td>\n",
       "      <td>东二环精装MINI空间Free自由季5月16日盛大开盘，VIP卡办理中，96折和9.8折惊喜...</td>\n",
       "      <td>东二环精装MINI空间 FREE自由季盛大开盘，VIP卡办理中，11700元/m2起！5月1...</td>\n",
       "      <td>\"东二环精装MINI空间免费自由季盛大开盘：56平米一居付全款96折，贷款9.8折！\"</td>\n",
       "    </tr>\n",
       "    <tr>\n",
       "      <th>1</th>\n",
       "      <td>Adobe：IE10不支持Flash插件影响不大</td>\n",
       "      <td>新浪科技讯 北京时间9月16日早间消息，微软已表示，Windows 8的“Metro”风...</td>\n",
       "      <td>微软停止Windows 8“Metro”风格IE10浏览器Flash支持</td>\n",
       "      <td>微软停止Windows 8“Metro”风格IE10浏览器支持，Adobe仍有Flash</td>\n",
       "      <td>Adobe Flash将不支持Windows 8“Metro”风格浏览器，但与微软合作提供互...</td>\n",
       "    </tr>\n",
       "    <tr>\n",
       "      <th>2</th>\n",
       "      <td>詹天佑09149期福彩3D分析：胆码7 合值范围10-19</td>\n",
       "      <td>一、本人通过钟摆撞击来分析，上期开出奖号831最后的落脚点立于1数字，本期钟摆力会有所改...</td>\n",
       "      <td>NaN</td>\n",
       "      <td>NaN</td>\n",
       "      <td>彩票期号预测：华彩网分析员解读高机率号及注数，揭秘奖号预测秘密！</td>\n",
       "    </tr>\n",
       "    <tr>\n",
       "      <th>3</th>\n",
       "      <td>低调之中尽显光芒 徕卡X1送手柄15980</td>\n",
       "      <td>【5月24日太平洋电脑网浙江站】如果说当年的徕卡品牌代表着一个大众品牌，代表着摄影工业的...</td>\n",
       "      <td>徕卡X1大陆行货价格亲民 仅15980元</td>\n",
       "      <td>徕卡X1大陆行货报价15980元，保留传统同时焕发青春</td>\n",
       "      <td>徕卡相机焕发青春，大陆行货报价15980元，传统质量与现代感并存</td>\n",
       "    </tr>\n",
       "    <tr>\n",
       "      <th>4</th>\n",
       "      <td>欧洲杯预选赛积分榜 德意逼近出线 法国优势缩小</td>\n",
       "      <td>北京时间6月4日凌晨，2012欧洲杯预选赛进行第6轮比赛，结果德国和意大利战胜对手提前出...</td>\n",
       "      <td>2012欧洲杯预选赛：德国和意大利提前出线，法国客场战平白俄罗斯</td>\n",
       "      <td>德国和意大利提前出线，法国客场战平，16支球队进入欧洲杯决赛圈</td>\n",
       "      <td>德国和意大利提前出线，法国客场战平！</td>\n",
       "    </tr>\n",
       "    <tr>\n",
       "      <th>...</th>\n",
       "      <td>...</td>\n",
       "      <td>...</td>\n",
       "      <td>...</td>\n",
       "      <td>...</td>\n",
       "      <td>...</td>\n",
       "    </tr>\n",
       "    <tr>\n",
       "      <th>195</th>\n",
       "      <td>盖茨投资资产去年四季减少30亿美元</td>\n",
       "      <td>巴菲特旗下资产减值近三成 \\n　　缩水180亿美元；盖茨投资资产减少30亿美元 \\n　　...</td>\n",
       "      <td>巴菲特旗下资产减值近三成，缩水180亿美元；盖茨投资资产减少30亿美元</td>\n",
       "      <td>巴菲特和盖茨资产缩水严重：巴菲特伯克希尔投资组合缩水180亿美元，盖茨投资资产减少30亿美元</td>\n",
       "      <td>\"股神巴菲特和比尔·盖茨投资资产大幅缩水，经济危机对其影响巨大\"</td>\n",
       "    </tr>\n",
       "    <tr>\n",
       "      <th>196</th>\n",
       "      <td>优质的壁纸是打造韩式风情的重要元素(图)</td>\n",
       "      <td>80平米的两居小户型，在装饰上比较注重简约温馨的氛围，过于奢华、繁杂的风格会使其没有空间...</td>\n",
       "      <td>80平米小户型装修指南</td>\n",
       "      <td>80平米小户型装饰：韩式浪漫风格引领空间感</td>\n",
       "      <td>韩式浪漫风格适合80平米小户型装饰：打造温馨浪漫氛围</td>\n",
       "    </tr>\n",
       "    <tr>\n",
       "      <th>197</th>\n",
       "      <td>整体以玫瑰色系为主(图)</td>\n",
       "      <td>玫瑰花点缀洁具，整体以玫瑰色系为主，极有浪漫情调。\\n\\n</td>\n",
       "      <td>玫瑰点缀洁具，浪漫情调十足</td>\n",
       "      <td>玫瑰点缀洁具，浪漫情调弥漫</td>\n",
       "      <td>\"玫瑰花点缀洁具，打造浪漫家庭氛围\"</td>\n",
       "    </tr>\n",
       "    <tr>\n",
       "      <th>198</th>\n",
       "      <td>08年全国成人高考成绩11月3日前公布</td>\n",
       "      <td>导报讯 (驻福州记者 林芹)昨日，记者从省教育厅获悉，全国成人高校招生统一考试考生成绩将...</td>\n",
       "      <td>成人高校招生统一考试成绩公布 录取线划定 集中录取和补录取时间公布</td>\n",
       "      <td>福建成人高校招生成绩及录取时间公布</td>\n",
       "      <td>福建成人高校11月集中录取，成绩及录取线将在11月10日划定</td>\n",
       "    </tr>\n",
       "    <tr>\n",
       "      <th>199</th>\n",
       "      <td>E3展馆基督教徒举牌示威纯属EA炒作</td>\n",
       "      <td>E3 2009展馆前部分基督教徒举牌示威，指责EA是反基督教公司一幕，原来是EA的炒作。...</td>\n",
       "      <td>EA炒起基督教徒抗议事件，玩但丁游戏被指反基督教</td>\n",
       "      <td>EA炒热《但丁的地狱》示威，被指蔑视基督教</td>\n",
       "      <td>EA E3 2009展馆前举抗议牌被指炒作，基督教徒举牌示威</td>\n",
       "    </tr>\n",
       "  </tbody>\n",
       "</table>\n",
       "<p>200 rows × 5 columns</p>\n",
       "</div>"
      ],
      "text/plain": [
       "                             title   \n",
       "0        东二环精装小户13000元起 付全款96折(组图)  \\\n",
       "1         Adobe：IE10不支持Flash插件影响不大   \n",
       "2    詹天佑09149期福彩3D分析：胆码7 合值范围10-19   \n",
       "3            低调之中尽显光芒 徕卡X1送手柄15980   \n",
       "4          欧洲杯预选赛积分榜 德意逼近出线 法国优势缩小   \n",
       "..                             ...   \n",
       "195              盖茨投资资产去年四季减少30亿美元   \n",
       "196           优质的壁纸是打造韩式风情的重要元素(图)   \n",
       "197                   整体以玫瑰色系为主(图)   \n",
       "198            08年全国成人高考成绩11月3日前公布   \n",
       "199             E3展馆基督教徒举牌示威纯属EA炒作   \n",
       "\n",
       "                                               context   \n",
       "0    　　东二环精装MINI空间——FREE自由季，主力户型56平米一居，定于5月16日盛大开盘，...  \\\n",
       "1    　　新浪科技讯 北京时间9月16日早间消息，微软已表示，Windows 8的“Metro”风...   \n",
       "2    　　一、本人通过钟摆撞击来分析，上期开出奖号831最后的落脚点立于1数字，本期钟摆力会有所改...   \n",
       "3    　　【5月24日太平洋电脑网浙江站】如果说当年的徕卡品牌代表着一个大众品牌，代表着摄影工业的...   \n",
       "4    　　北京时间6月4日凌晨，2012欧洲杯预选赛进行第6轮比赛，结果德国和意大利战胜对手提前出...   \n",
       "..                                                 ...   \n",
       "195  　　巴菲特旗下资产减值近三成 \\n　　缩水180亿美元；盖茨投资资产减少30亿美元 \\n　　...   \n",
       "196  　　80平米的两居小户型，在装饰上比较注重简约温馨的氛围，过于奢华、繁杂的风格会使其没有空间...   \n",
       "197                    　　玫瑰花点缀洁具，整体以玫瑰色系为主，极有浪漫情调。\\n\\n   \n",
       "198  　　导报讯 (驻福州记者 林芹)昨日，记者从省教育厅获悉，全国成人高校招生统一考试考生成绩将...   \n",
       "199  　　E3 2009展馆前部分基督教徒举牌示威，指责EA是反基督教公司一幕，原来是EA的炒作。...   \n",
       "\n",
       "                                      chatglm_one_shot   \n",
       "0    东二环精装MINI空间Free自由季5月16日盛大开盘，VIP卡办理中，96折和9.8折惊喜...  \\\n",
       "1                 微软停止Windows 8“Metro”风格IE10浏览器Flash支持   \n",
       "2                                                  NaN   \n",
       "3                                 徕卡X1大陆行货价格亲民 仅15980元   \n",
       "4                     2012欧洲杯预选赛：德国和意大利提前出线，法国客场战平白俄罗斯   \n",
       "..                                                 ...   \n",
       "195                巴菲特旗下资产减值近三成，缩水180亿美元；盖茨投资资产减少30亿美元   \n",
       "196                                        80平米小户型装修指南   \n",
       "197                                      玫瑰点缀洁具，浪漫情调十足   \n",
       "198                  成人高校招生统一考试成绩公布 录取线划定 集中录取和补录取时间公布   \n",
       "199                           EA炒起基督教徒抗议事件，玩但丁游戏被指反基督教   \n",
       "\n",
       "                                     chatglm_zero_shot   \n",
       "0    东二环精装MINI空间 FREE自由季盛大开盘，VIP卡办理中，11700元/m2起！5月1...  \\\n",
       "1         微软停止Windows 8“Metro”风格IE10浏览器支持，Adobe仍有Flash   \n",
       "2                                                  NaN   \n",
       "3                          徕卡X1大陆行货报价15980元，保留传统同时焕发青春   \n",
       "4                      德国和意大利提前出线，法国客场战平，16支球队进入欧洲杯决赛圈   \n",
       "..                                                 ...   \n",
       "195     巴菲特和盖茨资产缩水严重：巴菲特伯克希尔投资组合缩水180亿美元，盖茨投资资产减少30亿美元   \n",
       "196                              80平米小户型装饰：韩式浪漫风格引领空间感   \n",
       "197                                      玫瑰点缀洁具，浪漫情调弥漫   \n",
       "198                                  福建成人高校招生成绩及录取时间公布   \n",
       "199                              EA炒热《但丁的地狱》示威，被指蔑视基督教   \n",
       "\n",
       "                                 chatglm_least_to_most  \n",
       "0          \"东二环精装MINI空间免费自由季盛大开盘：56平米一居付全款96折，贷款9.8折！\"  \n",
       "1    Adobe Flash将不支持Windows 8“Metro”风格浏览器，但与微软合作提供互...  \n",
       "2                     彩票期号预测：华彩网分析员解读高机率号及注数，揭秘奖号预测秘密！  \n",
       "3                     徕卡相机焕发青春，大陆行货报价15980元，传统质量与现代感并存  \n",
       "4                                   德国和意大利提前出线，法国客场战平！  \n",
       "..                                                 ...  \n",
       "195                   \"股神巴菲特和比尔·盖茨投资资产大幅缩水，经济危机对其影响巨大\"  \n",
       "196                         韩式浪漫风格适合80平米小户型装饰：打造温馨浪漫氛围  \n",
       "197                                 \"玫瑰花点缀洁具，打造浪漫家庭氛围\"  \n",
       "198                     福建成人高校11月集中录取，成绩及录取线将在11月10日划定  \n",
       "199                     EA E3 2009展馆前举抗议牌被指炒作，基督教徒举牌示威  \n",
       "\n",
       "[200 rows x 5 columns]"
      ]
     },
     "execution_count": 14,
     "metadata": {},
     "output_type": "execute_result"
    }
   ],
   "source": [
    "run(name=\"chatglm_least_to_most\", generate_method=generate_prompt_combined_title, read_path=val_result_path, save_path=val_result_path)"
   ]
  },
  {
   "cell_type": "code",
   "execution_count": 15,
   "metadata": {},
   "outputs": [
    {
     "name": "stderr",
     "output_type": "stream",
     "text": [
      "100%|██████████| 200/200 [00:03<00:00, 50.23it/s]\n",
      "100%|██████████| 200/200 [00:19<00:00, 10.16it/s]\n",
      "100%|██████████| 200/200 [04:50<00:00,  1.45s/it]\n"
     ]
    },
    {
     "data": {
      "text/html": [
       "<div>\n",
       "<style scoped>\n",
       "    .dataframe tbody tr th:only-of-type {\n",
       "        vertical-align: middle;\n",
       "    }\n",
       "\n",
       "    .dataframe tbody tr th {\n",
       "        vertical-align: top;\n",
       "    }\n",
       "\n",
       "    .dataframe thead th {\n",
       "        text-align: right;\n",
       "    }\n",
       "</style>\n",
       "<table border=\"1\" class=\"dataframe\">\n",
       "  <thead>\n",
       "    <tr style=\"text-align: right;\">\n",
       "      <th></th>\n",
       "      <th>title</th>\n",
       "      <th>context</th>\n",
       "      <th>chatglm_one_shot</th>\n",
       "      <th>chatglm_zero_shot</th>\n",
       "      <th>chatglm_least_to_most</th>\n",
       "    </tr>\n",
       "  </thead>\n",
       "  <tbody>\n",
       "    <tr>\n",
       "      <th>0</th>\n",
       "      <td>东二环精装小户13000元起 付全款96折(组图)</td>\n",
       "      <td>东二环精装MINI空间——FREE自由季，主力户型56平米一居，定于5月16日盛大开盘，...</td>\n",
       "      <td>东二环精装MINI空间Free自由季5月16日盛大开盘，VIP卡办理中，96折和9.8折惊喜...</td>\n",
       "      <td>东二环精装MINI空间 FREE自由季盛大开盘，VIP卡办理中，11700元/m2起！5月1...</td>\n",
       "      <td>\"东二环精装MINI空间免费自由季盛大开盘：56平米一居付全款96折，贷款9.8折！\"</td>\n",
       "    </tr>\n",
       "    <tr>\n",
       "      <th>1</th>\n",
       "      <td>Adobe：IE10不支持Flash插件影响不大</td>\n",
       "      <td>新浪科技讯 北京时间9月16日早间消息，微软已表示，Windows 8的“Metro”风...</td>\n",
       "      <td>微软停止Windows 8“Metro”风格IE10浏览器Flash支持</td>\n",
       "      <td>微软停止Windows 8“Metro”风格IE10浏览器支持，Adobe仍有Flash</td>\n",
       "      <td>Adobe Flash将不支持Windows 8“Metro”风格浏览器，但与微软合作提供互...</td>\n",
       "    </tr>\n",
       "    <tr>\n",
       "      <th>2</th>\n",
       "      <td>詹天佑09149期福彩3D分析：胆码7 合值范围10-19</td>\n",
       "      <td>一、本人通过钟摆撞击来分析，上期开出奖号831最后的落脚点立于1数字，本期钟摆力会有所改...</td>\n",
       "      <td>NaN</td>\n",
       "      <td>NaN</td>\n",
       "      <td>彩票期号预测：华彩网分析员解读高机率号及注数，揭秘奖号预测秘密！</td>\n",
       "    </tr>\n",
       "    <tr>\n",
       "      <th>3</th>\n",
       "      <td>低调之中尽显光芒 徕卡X1送手柄15980</td>\n",
       "      <td>【5月24日太平洋电脑网浙江站】如果说当年的徕卡品牌代表着一个大众品牌，代表着摄影工业的...</td>\n",
       "      <td>徕卡X1大陆行货价格亲民 仅15980元</td>\n",
       "      <td>徕卡X1大陆行货报价15980元，保留传统同时焕发青春</td>\n",
       "      <td>徕卡相机焕发青春，大陆行货报价15980元，传统质量与现代感并存</td>\n",
       "    </tr>\n",
       "    <tr>\n",
       "      <th>4</th>\n",
       "      <td>欧洲杯预选赛积分榜 德意逼近出线 法国优势缩小</td>\n",
       "      <td>北京时间6月4日凌晨，2012欧洲杯预选赛进行第6轮比赛，结果德国和意大利战胜对手提前出...</td>\n",
       "      <td>2012欧洲杯预选赛：德国和意大利提前出线，法国客场战平白俄罗斯</td>\n",
       "      <td>德国和意大利提前出线，法国客场战平，16支球队进入欧洲杯决赛圈</td>\n",
       "      <td>德国和意大利提前出线，法国客场战平！</td>\n",
       "    </tr>\n",
       "    <tr>\n",
       "      <th>...</th>\n",
       "      <td>...</td>\n",
       "      <td>...</td>\n",
       "      <td>...</td>\n",
       "      <td>...</td>\n",
       "      <td>...</td>\n",
       "    </tr>\n",
       "    <tr>\n",
       "      <th>195</th>\n",
       "      <td>盖茨投资资产去年四季减少30亿美元</td>\n",
       "      <td>巴菲特旗下资产减值近三成 \\n　　缩水180亿美元；盖茨投资资产减少30亿美元 \\n　　...</td>\n",
       "      <td>巴菲特旗下资产减值近三成，缩水180亿美元；盖茨投资资产减少30亿美元</td>\n",
       "      <td>巴菲特和盖茨资产缩水严重：巴菲特伯克希尔投资组合缩水180亿美元，盖茨投资资产减少30亿美元</td>\n",
       "      <td>\"股神巴菲特和比尔·盖茨投资资产大幅缩水，经济危机对其影响巨大\"</td>\n",
       "    </tr>\n",
       "    <tr>\n",
       "      <th>196</th>\n",
       "      <td>优质的壁纸是打造韩式风情的重要元素(图)</td>\n",
       "      <td>80平米的两居小户型，在装饰上比较注重简约温馨的氛围，过于奢华、繁杂的风格会使其没有空间...</td>\n",
       "      <td>80平米小户型装修指南</td>\n",
       "      <td>80平米小户型装饰：韩式浪漫风格引领空间感</td>\n",
       "      <td>韩式浪漫风格适合80平米小户型装饰：打造温馨浪漫氛围</td>\n",
       "    </tr>\n",
       "    <tr>\n",
       "      <th>197</th>\n",
       "      <td>整体以玫瑰色系为主(图)</td>\n",
       "      <td>玫瑰花点缀洁具，整体以玫瑰色系为主，极有浪漫情调。\\n\\n</td>\n",
       "      <td>玫瑰点缀洁具，浪漫情调十足</td>\n",
       "      <td>玫瑰点缀洁具，浪漫情调弥漫</td>\n",
       "      <td>\"玫瑰花点缀洁具，打造浪漫家庭氛围\"</td>\n",
       "    </tr>\n",
       "    <tr>\n",
       "      <th>198</th>\n",
       "      <td>08年全国成人高考成绩11月3日前公布</td>\n",
       "      <td>导报讯 (驻福州记者 林芹)昨日，记者从省教育厅获悉，全国成人高校招生统一考试考生成绩将...</td>\n",
       "      <td>成人高校招生统一考试成绩公布 录取线划定 集中录取和补录取时间公布</td>\n",
       "      <td>福建成人高校招生成绩及录取时间公布</td>\n",
       "      <td>福建成人高校11月集中录取，成绩及录取线将在11月10日划定</td>\n",
       "    </tr>\n",
       "    <tr>\n",
       "      <th>199</th>\n",
       "      <td>E3展馆基督教徒举牌示威纯属EA炒作</td>\n",
       "      <td>E3 2009展馆前部分基督教徒举牌示威，指责EA是反基督教公司一幕，原来是EA的炒作。...</td>\n",
       "      <td>EA炒起基督教徒抗议事件，玩但丁游戏被指反基督教</td>\n",
       "      <td>EA炒热《但丁的地狱》示威，被指蔑视基督教</td>\n",
       "      <td>EA E3 2009展馆前举抗议牌被指炒作，基督教徒举牌示威</td>\n",
       "    </tr>\n",
       "  </tbody>\n",
       "</table>\n",
       "<p>200 rows × 5 columns</p>\n",
       "</div>"
      ],
      "text/plain": [
       "                             title   \n",
       "0        东二环精装小户13000元起 付全款96折(组图)  \\\n",
       "1         Adobe：IE10不支持Flash插件影响不大   \n",
       "2    詹天佑09149期福彩3D分析：胆码7 合值范围10-19   \n",
       "3            低调之中尽显光芒 徕卡X1送手柄15980   \n",
       "4          欧洲杯预选赛积分榜 德意逼近出线 法国优势缩小   \n",
       "..                             ...   \n",
       "195              盖茨投资资产去年四季减少30亿美元   \n",
       "196           优质的壁纸是打造韩式风情的重要元素(图)   \n",
       "197                   整体以玫瑰色系为主(图)   \n",
       "198            08年全国成人高考成绩11月3日前公布   \n",
       "199             E3展馆基督教徒举牌示威纯属EA炒作   \n",
       "\n",
       "                                               context   \n",
       "0    　　东二环精装MINI空间——FREE自由季，主力户型56平米一居，定于5月16日盛大开盘，...  \\\n",
       "1    　　新浪科技讯 北京时间9月16日早间消息，微软已表示，Windows 8的“Metro”风...   \n",
       "2    　　一、本人通过钟摆撞击来分析，上期开出奖号831最后的落脚点立于1数字，本期钟摆力会有所改...   \n",
       "3    　　【5月24日太平洋电脑网浙江站】如果说当年的徕卡品牌代表着一个大众品牌，代表着摄影工业的...   \n",
       "4    　　北京时间6月4日凌晨，2012欧洲杯预选赛进行第6轮比赛，结果德国和意大利战胜对手提前出...   \n",
       "..                                                 ...   \n",
       "195  　　巴菲特旗下资产减值近三成 \\n　　缩水180亿美元；盖茨投资资产减少30亿美元 \\n　　...   \n",
       "196  　　80平米的两居小户型，在装饰上比较注重简约温馨的氛围，过于奢华、繁杂的风格会使其没有空间...   \n",
       "197                    　　玫瑰花点缀洁具，整体以玫瑰色系为主，极有浪漫情调。\\n\\n   \n",
       "198  　　导报讯 (驻福州记者 林芹)昨日，记者从省教育厅获悉，全国成人高校招生统一考试考生成绩将...   \n",
       "199  　　E3 2009展馆前部分基督教徒举牌示威，指责EA是反基督教公司一幕，原来是EA的炒作。...   \n",
       "\n",
       "                                      chatglm_one_shot   \n",
       "0    东二环精装MINI空间Free自由季5月16日盛大开盘，VIP卡办理中，96折和9.8折惊喜...  \\\n",
       "1                 微软停止Windows 8“Metro”风格IE10浏览器Flash支持   \n",
       "2                                                  NaN   \n",
       "3                                 徕卡X1大陆行货价格亲民 仅15980元   \n",
       "4                     2012欧洲杯预选赛：德国和意大利提前出线，法国客场战平白俄罗斯   \n",
       "..                                                 ...   \n",
       "195                巴菲特旗下资产减值近三成，缩水180亿美元；盖茨投资资产减少30亿美元   \n",
       "196                                        80平米小户型装修指南   \n",
       "197                                      玫瑰点缀洁具，浪漫情调十足   \n",
       "198                  成人高校招生统一考试成绩公布 录取线划定 集中录取和补录取时间公布   \n",
       "199                           EA炒起基督教徒抗议事件，玩但丁游戏被指反基督教   \n",
       "\n",
       "                                     chatglm_zero_shot   \n",
       "0    东二环精装MINI空间 FREE自由季盛大开盘，VIP卡办理中，11700元/m2起！5月1...  \\\n",
       "1         微软停止Windows 8“Metro”风格IE10浏览器支持，Adobe仍有Flash   \n",
       "2                                                  NaN   \n",
       "3                          徕卡X1大陆行货报价15980元，保留传统同时焕发青春   \n",
       "4                      德国和意大利提前出线，法国客场战平，16支球队进入欧洲杯决赛圈   \n",
       "..                                                 ...   \n",
       "195     巴菲特和盖茨资产缩水严重：巴菲特伯克希尔投资组合缩水180亿美元，盖茨投资资产减少30亿美元   \n",
       "196                              80平米小户型装饰：韩式浪漫风格引领空间感   \n",
       "197                                      玫瑰点缀洁具，浪漫情调弥漫   \n",
       "198                                  福建成人高校招生成绩及录取时间公布   \n",
       "199                              EA炒热《但丁的地狱》示威，被指蔑视基督教   \n",
       "\n",
       "                                 chatglm_least_to_most  \n",
       "0          \"东二环精装MINI空间免费自由季盛大开盘：56平米一居付全款96折，贷款9.8折！\"  \n",
       "1    Adobe Flash将不支持Windows 8“Metro”风格浏览器，但与微软合作提供互...  \n",
       "2                     彩票期号预测：华彩网分析员解读高机率号及注数，揭秘奖号预测秘密！  \n",
       "3                     徕卡相机焕发青春，大陆行货报价15980元，传统质量与现代感并存  \n",
       "4                                   德国和意大利提前出线，法国客场战平！  \n",
       "..                                                 ...  \n",
       "195                   \"股神巴菲特和比尔·盖茨投资资产大幅缩水，经济危机对其影响巨大\"  \n",
       "196                         韩式浪漫风格适合80平米小户型装饰：打造温馨浪漫氛围  \n",
       "197                                 \"玫瑰花点缀洁具，打造浪漫家庭氛围\"  \n",
       "198                     福建成人高校11月集中录取，成绩及录取线将在11月10日划定  \n",
       "199                     EA E3 2009展馆前举抗议牌被指炒作，基督教徒举牌示威  \n",
       "\n",
       "[200 rows x 5 columns]"
      ]
     },
     "execution_count": 15,
     "metadata": {},
     "output_type": "execute_result"
    }
   ],
   "source": [
    "# 可能因为网络等原因生成失败，这里重新把失败的append\n",
    "run(name=\"chatglm_zero_shot\", generate_method=generate_prompt_direcet_title, read_path=val_result_path, save_path=val_result_path,append=True)\n",
    "run(name=\"chatglm_one_shot\",generate_method = generate_prompt_example_title,vector_db=db,read_path=val_result_path,save_path=val_result_path,append=True)\n",
    "run(name=\"chatglm_least_to_most\", generate_method=generate_prompt_combined_title, read_path=val_result_path, save_path=val_result_path,append=True)"
   ]
  },
  {
   "attachments": {},
   "cell_type": "markdown",
   "metadata": {},
   "source": [
    "###"
   ]
  },
  {
   "cell_type": "code",
   "execution_count": null,
   "metadata": {},
   "outputs": [],
   "source": []
  }
 ],
 "metadata": {
  "kernelspec": {
   "display_name": "title-generate",
   "language": "python",
   "name": "python3"
  },
  "language_info": {
   "codemirror_mode": {
    "name": "ipython",
    "version": 3
   },
   "file_extension": ".py",
   "mimetype": "text/x-python",
   "name": "python",
   "nbconvert_exporter": "python",
   "pygments_lexer": "ipython3",
   "version": "3.11.3"
  },
  "orig_nbformat": 4
 },
 "nbformat": 4,
 "nbformat_minor": 2
}
